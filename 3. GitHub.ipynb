{
 "cells": [
  {
   "cell_type": "markdown",
   "id": "07425084",
   "metadata": {},
   "source": [
    "#### 1. Create a New Repository on GitHub\n",
    "\n",
    "- Log into your GitHub account.\n",
    "- Click the “+” in the top-right and select **New repository**.\n",
    "- Enter a name (e.g., `my-first-repo`).\n",
    "\n",
    "> **Important:** Do **NOT** add a README, `.gitignore`, or license file now — this prevents merge conflicts on the first push.\n",
    "\n",
    "---\n",
    "\n",
    "#### 2. Copy the Remote Repository URL\n",
    "\n",
    "- After creating the repo, GitHub will display a page with your new repository’s information.\n",
    "- Copy the repository URL (e.g., `https://github.com/your-username/my-first-repo.git`).\n",
    "\n",
    "---\n",
    "\n",
    "#### 3. Connect Your Local Repo to GitHub\n",
    "\n",
    "- Open your terminal and make sure you’re inside your **local project directory**.\n",
    "\n",
    "### a) Add the remote URL:\n",
    "\n",
    "```bash\n",
    "git remote add origin https://github.com/your-username/my-first-repo.git\n",
    "```\n",
    "This links your local project to the GitHub repo.\n",
    "    \n",
    "    The word origin is a convention; it represents like a name you have assigned to your remote repository.\n",
    "**b) (Optional) Rename the default branch if necessary:**\n",
    "If your main local branch is named master but GitHub expects main, rename it:\n",
    "```bash\n",
    "git branch -M main\n",
    "```\n",
    "\n",
    "    This ensures both local and remote repo use the same default branch name."
   ]
  },
  {
   "cell_type": "markdown",
   "id": "e836fd8f",
   "metadata": {},
   "source": [
    "---\n",
    "#### 4. Push Your Code to GitHub\n",
    "a) First, make sure all files are committed:\n",
    "```bash\n",
    "git add .\n",
    "git commit -m \"Initial commit\"\n",
    "```\n",
    "\n",
    "    If you already have commits, proceed to the next step.\n",
    "\n",
    "b) Push to GitHub:\n",
    "```bash\n",
    "git push -u origin main\n",
    "```\n",
    "\n",
    "    The -u flag sets up your branch to track the remote branch named main. Use master if that's your branch name.\n",
    "\n",
    "#### 5. Confirm Connection\n",
    "Check the remote connection:\n",
    "```bash\n",
    "git remote -v\n",
    "```\n",
    "    This should output the URL you just added, confirming your local repo is connected to GitHub."
   ]
  },
  {
   "cell_type": "markdown",
   "id": "07e38c3b",
   "metadata": {},
   "source": [
    "## Summary Table\n",
    "\n",
    "| Step             | Command / Action                                    | Description                                 |\n",
    "|------------------|-----------------------------------------------------|---------------------------------------------|\n",
    "| Create GitHub Repo | --                                                  | Online repository; don’t initialize with files |\n",
    "| Add Remote URL   | `git remote add origin <repo-url>`                 | Links local and remote repos                |\n",
    "| Rename Branch    | `git branch -M main`                                | (Optional) Sync local default branch name   |\n",
    "| Commit Files     | `git add .`<br>`git commit -m \"Initial commit\"`     | Stage and commit changes locally            |\n",
    "| Push to GitHub   | `git push -u origin main`                           | Upload code to remote GitHub repo           |\n",
    "| Verify Remote    | `git remote -v`                                     | List linked remotes                         |\n"
   ]
  },
  {
   "cell_type": "markdown",
   "id": "f6839354",
   "metadata": {},
   "source": []
  }
 ],
 "metadata": {
  "language_info": {
   "name": "python"
  }
 },
 "nbformat": 4,
 "nbformat_minor": 5
}
