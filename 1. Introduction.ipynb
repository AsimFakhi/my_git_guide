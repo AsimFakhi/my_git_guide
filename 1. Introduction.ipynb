{
 "cells": [
  {
   "cell_type": "markdown",
   "id": "ed97bdb1",
   "metadata": {},
   "source": [
    "# 🧠 Git & GitHub Tutorial for Beginners\n",
    "\n",
    "Welcome to this beginner-friendly tutorial on **Git** and **GitHub**. This guide is designed to help you understand what Git is, why it's useful, and how to start using it alongside GitHub.\n",
    "\n",
    "---\n",
    "\n",
    "## 📌 What Is Git?\n",
    "\n",
    "**Git** is a **version control system** that helps you:\n",
    "\n",
    "- Track changes to files (like code, documents, etc.)\n",
    "- Collaborate with others effectively\n",
    "- Revert to previous versions if needed\n",
    "\n",
    "### 🔑 Key Concepts\n",
    "\n",
    "- **Repository (repo):** A project or directory managed by Git\n",
    "- **Commit:** A snapshot of your files at a particular point in time\n",
    "- **Branch:** A parallel version of your repository for independent development\n",
    "\n",
    "---\n",
    "\n",
    "## 🚀 Why Use Git?\n",
    "\n",
    "- ✅ Experiment without fear — roll back if something breaks\n",
    "- ✅ Collaborate efficiently — everyone's work stays organized\n",
    "- ✅ Maintain a full history — great for reference or audits\n",
    "\n",
    "---\n",
    "\n",
    "## 🛠️ First Steps with Git\n",
    "\n",
    "### 1. Setting Up Git\n",
    "\n",
    "Open your terminal and set your name and email (Git uses these in commit metadata):\n",
    "\n",
    "```bash\n",
    "git config --global user.name \"Your Name\"\n",
    "git config --global user.email \"your@email.com\""
   ]
  },
  {
   "cell_type": "markdown",
   "id": "071b3f83",
   "metadata": {},
   "source": [
    "### 📌 What Is Git?\n",
    "\n",
    "**Git** is a **version control system** that helps you:\n",
    "\n",
    "- Track changes to files (like code, documents, etc.)\n",
    "- Collaborate with others effectively\n",
    "- Revert to previous versions if neededz\n",
    "\n",
    "### 🔑 Key Concepts\n",
    "\n",
    "- **Repository (repo):** A project or directory managed by Git\n",
    "- **Commit:** A snapshot of your files at a particular point in time\n",
    "- **Branch:** A parallel version of your repository for independent development\n"
   ]
  },
  {
   "cell_type": "markdown",
   "id": "51823631",
   "metadata": {},
   "source": [
    "## 📁 2. Creating a New Repository\n",
    "\n",
    "Navigate to the directory you want to track (or create a new one):\n",
    "\n",
    "```bash\n",
    "mkdir my-first-repo\n",
    "cd my-first-repo\n",
    "git init\n"
   ]
  },
  {
   "cell_type": "markdown",
   "id": "8c6383e5",
   "metadata": {},
   "source": [
    "### 💾 3. Stage and Commit Files\n",
    "\n",
    "Create a new file and add content:\n",
    "\n",
    "```bash\n",
    "echo \"Hello Git!\" > hello.txt\n",
    "```\n",
    "\n",
    "Stage the file (prepare it for commit):\n",
    "```bash\n",
    "git add hello.txt\n",
    "```\n",
    "\n",
    "Commit the file (save the snapshot to the repo history):\n",
    "```bash\n",
    "git commit -m \"Add hello.txt with greeting\"\n",
    "```\n",
    "\n",
    "**🧠 5. Best Practices**\n",
    "+ Commit Messages:\n",
    "Use clear, concise, and descriptive messages\n",
    "e.g.: Fix bug in data processing pipeline\n",
    "\n",
    "+ .gitignore:\n",
    "A .gitignore file tells Git to ignore specified files/folders.\n",
    "Exclude files that shouldn’t be tracked (e.g., node_modules, .env, logs)\n",
    "Example:\n",
    "\n",
    "Create **.gitignore**:\n",
    "\n",
    "    *.pyc\n",
    "    .env\n",
    "    node_modules/\n",
    "These files/folders will not be tracked or committed.\n",
    "\n",
    "+ Atomic Commits:\n",
    "Each commit should represent a small, complete unit of work"
   ]
  },
  {
   "cell_type": "markdown",
   "id": "e82a356d",
   "metadata": {},
   "source": [
    "### 🔍 4. Checking Status and History\n",
    "Check what’s changed:\n",
    "```bash\n",
    "git status\n",
    "````\n",
    "View the commit history:\n",
    "```bash\n",
    "git log\n",
    "```"
   ]
  },
  {
   "cell_type": "markdown",
   "id": "af97efe3",
   "metadata": {},
   "source": [
    "#### Key Concepts We'll Cover as You Advance\n",
    "- Branching and merging (safe parallel development)\n",
    "- Collaborative workflows (pull requests, forks)\n",
    "- Resolving conflicts\n",
    "- Undoing/rolling back changes\n",
    "- Best practices (commit messages, ignoring files, .gitignore)\n",
    "- Using Git with GUI clients and IDEs\n",
    "- Automation and GitHub Actions\n",
    "\n",
    "You now know how to:\n",
    "- Start a repo\n",
    "- Add and commit files\n",
    "- View your repo’s history"
   ]
  },
  {
   "cell_type": "markdown",
   "id": "719e206d",
   "metadata": {},
   "source": []
  }
 ],
 "metadata": {
  "kernelspec": {
   "display_name": "Python 3",
   "language": "python",
   "name": "python3"
  },
  "language_info": {
   "name": "python",
   "version": "3.11.13"
  }
 },
 "nbformat": 4,
 "nbformat_minor": 5
}
