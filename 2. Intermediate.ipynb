{
 "cells": [
  {
   "cell_type": "markdown",
   "id": "528ebc34",
   "metadata": {},
   "source": [
    "## 🚀 Advanced Git & GitHub Concepts\n",
    "\n",
    "Let’s dive into key concepts and advanced topics in Git and GitHub, combining practical usage with best practices to master collaboration and code management.\n",
    "\n",
    "---\n",
    "\n",
    "## 🌿 1. Branching and Merging\n",
    "\n",
    "**Branching** allows you to work on features or fixes without affecting the main codebase.\n",
    "\n",
    "### Create a branch:\n",
    "\n",
    "```bash\n",
    "git branch feature-xyz\n",
    "git checkout feature-xyz\n",
    "```\n",
    "**Shorter way** (create & switch in one step):\n",
    "```bash\n",
    "git checkout -b feature-xyz\n",
    "```\n",
    "##### ✅ Why Use Branches?\n",
    "* Safe experimentation\n",
    "* Parallel development\n",
    "* Clean code integration\n",
    "* Merge your changes back into another branch (usually main):\n",
    "```bash\n",
    "git checkout main\n",
    "git merge feature-xyz\n",
    "```"
   ]
  },
  {
   "cell_type": "markdown",
   "id": "a1f6ee6b",
   "metadata": {},
   "source": [
    "---\n",
    "### 🤝 2. Collaborative Workflows\n",
    "🔁 a. Pull Requests (PR)\n",
    "Propose changes from one branch (or fork) to another (usually main)\n",
    "\n",
    "Team members can review, comment, request changes, and approve\n",
    "\n",
    "🍴 b. Forks\n",
    "Create a copy of someone else's repository\n",
    "\n",
    "Make changes in your fork, then open a PR to the original repo\n",
    "\n"
   ]
  },
  {
   "cell_type": "markdown",
   "id": "ae053533",
   "metadata": {},
   "source": [
    "---\n",
    "#### ⚠️ 3. Resolving Merge Conflicts\n",
    "Merge conflicts happen when Git can’t automatically merge changes between branches.\n",
    "\n",
    "To resolve:\n",
    "\n",
    "1. Edit the conflicting files to keep or combine changes\n",
    "2. Stage and commit the resolved file(s):\n",
    "\n",
    "```bash\n",
    "git add conflicted-file.ext\n",
    "git commit\n",
    "```\n",
    "---"
   ]
  },
  {
   "cell_type": "markdown",
   "id": "058c83b6",
   "metadata": {},
   "source": [
    "#### 🔁 4. Rollbacks and Undoing Changes\n",
    "Common commands for undoing mistakes:\n",
    "\n",
    "Unstage a file:\n",
    "```bash\n",
    "git reset HEAD <file>\n",
    "```\n",
    "Undo the last commit (but keep changes):\n",
    "```bash\n",
    "git reset --soft HEAD~1\n",
    "```\n",
    "Discard local changes:\n",
    "```bash\n",
    "git checkout -- <file>\n",
    "```\n",
    "Restore to an earlier commit:\n",
    "```bash\n",
    "git revert <commit-hash>\n",
    "```"
   ]
  },
  {
   "cell_type": "markdown",
   "id": "f2e5c26e",
   "metadata": {},
   "source": [
    "---\n",
    "#### 🏷️ 5. Tagging and Releases\n",
    "Use tags to mark specific commits (e.g., version releases):\n",
    "```bash\n",
    "git tag v1.0.0\n",
    "git push origin v1.0.0\n",
    "```\n",
    "---\n",
    "#### 🗃️ 8. Stashing\n",
    "Temporarily save changes you’re not ready to commit:\n",
    "```bash\n",
    "git stash\n",
    "```\n",
    "Restore your stash later:\n",
    "```bash\n",
    "git stash pop\n",
    "```\n",
    "---\n",
    "#### 🔄 9. Rebasing\n",
    "Reapply your commits on top of another branch (often used to clean up history):\n",
    "```bash\n",
    "git rebase main\n",
    "```\n",
    "**⚠️ Use with care — rebasing rewrites commit history. Avoid rebasing shared branches.**\n",
    "\n"
   ]
  },
  {
   "cell_type": "markdown",
   "id": "2f7d46ad",
   "metadata": {},
   "source": [
    "\n",
    "---\n",
    "#### 🧩 10. Advanced Collaboration\n",
    "+ Protected Branches:\n",
    "Prevent direct commits or force-pushes to key branches like main\n",
    "\n",
    "+ Code Reviews:\n",
    "Use Pull Request reviews to maintain quality and share knowledge\n",
    "\n"
   ]
  },
  {
   "cell_type": "markdown",
   "id": "f6f6470e",
   "metadata": {},
   "source": []
  }
 ],
 "metadata": {
  "language_info": {
   "name": "python"
  }
 },
 "nbformat": 4,
 "nbformat_minor": 5
}
